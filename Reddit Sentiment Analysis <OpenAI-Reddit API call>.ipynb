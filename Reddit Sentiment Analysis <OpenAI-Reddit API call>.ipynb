{
 "cells": [
  {
   "cell_type": "code",
   "execution_count": 6,
   "id": "08ba859f",
   "metadata": {},
   "outputs": [],
   "source": [
    "import openai\n",
    "import pandas as pd\n",
    "##install and import praw lib to create a connection with reddit\n",
    "import praw\n",
    "import os"
   ]
  },
  {
   "cell_type": "code",
   "execution_count": null,
   "id": "77d903e1",
   "metadata": {},
   "outputs": [],
   "source": []
  },
  {
   "cell_type": "code",
   "execution_count": null,
   "id": "c53159f5",
   "metadata": {},
   "outputs": [],
   "source": []
  },
  {
   "cell_type": "code",
   "execution_count": null,
   "id": "1afbe3de",
   "metadata": {},
   "outputs": [],
   "source": []
  },
  {
   "cell_type": "code",
   "execution_count": 39,
   "id": "95b6fdf7",
   "metadata": {},
   "outputs": [],
   "source": [
    "os.environ['OPENAI_API_KEY'] = ''"
   ]
  },
  {
   "cell_type": "code",
   "execution_count": 40,
   "id": "be192d79",
   "metadata": {},
   "outputs": [],
   "source": [
    "openai.api_key = os.getenv('OPENAI_API_KEY')"
   ]
  },
  {
   "cell_type": "code",
   "execution_count": null,
   "id": "00aa993a",
   "metadata": {},
   "outputs": [],
   "source": []
  },
  {
   "cell_type": "code",
   "execution_count": 14,
   "id": "8fd8019b",
   "metadata": {},
   "outputs": [],
   "source": [
    "##Reddit credentials, create an app in reddit to get them\n",
    "\n",
    "client_id = ''\n",
    "client_secret = ''\n",
    "\n",
    "\n"
   ]
  },
  {
   "cell_type": "code",
   "execution_count": null,
   "id": "f21c9c1e",
   "metadata": {},
   "outputs": [],
   "source": []
  },
  {
   "cell_type": "code",
   "execution_count": 16,
   "id": "8ea470b4",
   "metadata": {},
   "outputs": [],
   "source": [
    "reddit = praw.Reddit(client_id = client_id,\n",
    "                     client_secret = client_secret, \n",
    "                     user_agent = 'sentiment analysis test'\n",
    "                    )"
   ]
  },
  {
   "cell_type": "code",
   "execution_count": 18,
   "id": "137b194e",
   "metadata": {},
   "outputs": [
    {
     "name": "stdout",
     "output_type": "stream",
     "text": [
      "Rate My Portfolio - r/Stocks Quarterly Thread December 2023\n",
      "/r/Stocks Weekend Discussion Saturday - Dec 02, 2023\n",
      "Why is the market pricing in rate cutes when the fed has been clear they arent thinking about cuts?\n",
      "Apple TV Plus and Paramount Plus reportedly discussing cheap bundle plan to take on Netflix\n",
      "Uber, Jabil, Builders FirstSource to Join S&P 500\n"
     ]
    }
   ],
   "source": [
    "for submission in reddit.subreddit(\"stocks\").hot(limit=5):\n",
    "    print(submission.title)"
   ]
  },
  {
   "cell_type": "code",
   "execution_count": 19,
   "id": "9ab1ce58",
   "metadata": {},
   "outputs": [],
   "source": [
    "subreddit_stocks = reddit.subreddit(\"stocks\")"
   ]
  },
  {
   "cell_type": "code",
   "execution_count": 21,
   "id": "07e38646",
   "metadata": {},
   "outputs": [
    {
     "name": "stdout",
     "output_type": "stream",
     "text": [
      "Rate My Portfolio - r/Stocks Quarterly Thread December 2023\n",
      "My current portfolio is 50% MTCH (MatchGroup) and 50% EZJ (EasyJet). Anyone have any suggestions for possible further diversification (looking to hold 4-8 stocks in total).\n",
      "Portfolio - INMD, TAYD, TGTX, AMLX, PFE. (I hold 100 shares and sell occasionally on rips or sell covered calls interchangbly. If not, then I hold them long term until I feel like I make a decent profit and switch to CSP).\n",
      "\n",
      "I hold NEP and will continue holding this as it is my biggest winner so far with a killer dividend. \n",
      "\n",
      "I plan to add PERI once i have the capital and add MOD once it has some healthy pullback.\n",
      "\n",
      "I focus on quality, valuation, and how much more the stock can grow in market cap.\n",
      "/r/Stocks Weekend Discussion Saturday - Dec 02, 2023\n",
      "Why is the market pricing in rate cutes when the fed has been clear they arent thinking about cuts?\n",
      "They saw JPOW wink when he said no rate cuts.\n",
      "Of course the Fed is going to say that. Inflation is partly psychological so if they let out that they will lower rates as of X date, it makes the Fed's job much harder and the chances of a soft landing gone.\n",
      "\n",
      "The Fed's playbook has always been, \"do whatever it takes to fight inflation, blah, blah and then lower rates at the first sign of a recession.\n",
      "Apple TV Plus and Paramount Plus reportedly discussing cheap bundle plan to take on Netflix\n",
      "Apple TV+ is a high quality product and I just don’t see the same appeal for paramount.\n",
      "The slow march of streaming becoming cable continues…\n",
      "Uber, Jabil, Builders FirstSource to Join S&P 500\n",
      "Shoutout to that one user in the daily who recommend BLDR a while ago. Really impressive stock. \n",
      "\n",
      "Also as someone who is long on JBL, I’m stoked.\n",
      "It is interesting seeing the stocks I own go from being told to avoid to the S&P 500 being alright with having them in the index this year. First it was ABNB and LULU being added. Now UBER is in. Only thing left in my portfolio not in the index is PLTR and APO. And Bank of America said APO/KKR are likely to get in next year.\n"
     ]
    }
   ],
   "source": [
    "for post in subreddit_stocks.hot(limit=5):\n",
    "    print(post.title)\n",
    "    submission = reddit.submission(post.id)\n",
    "    ##print 2 commnets\n",
    "    counter = 0\n",
    "    for comment  in submission.comments:\n",
    "        print(comment.body)\n",
    "        counter+=1\n",
    "        if counter == 2:\n",
    "            break"
   ]
  },
  {
   "cell_type": "code",
   "execution_count": 30,
   "id": "097e11c7",
   "metadata": {},
   "outputs": [],
   "source": [
    "def get_titles_and_comments(subreddit=\"stocks\", limit=6, num_comments=3,  skip_first=2):\n",
    "    subreddit = reddit.subreddit(subreddit)\n",
    "    \n",
    "    titles_and_comments = {}\n",
    "    \n",
    "    for counter, post in enumerate(subreddit.hot(limit=limit)):\n",
    "        \n",
    "        if counter < skip_first:\n",
    "            continue\n",
    "            \n",
    "        counter += (1-skip_first)\n",
    "        \n",
    "        titles_and_comments[counter] = \"\"\n",
    "        submission = reddit.submission(post.id)\n",
    "        \n",
    "        title = post.title\n",
    "        \n",
    "        titles_and_comments[counter] += \"Title: \" + title + \"\\n\\n\"\n",
    "        titles_and_comments[counter] += \"Comments: \\n\\n\"\n",
    "        \n",
    "        comment_counter = 0\n",
    "        \n",
    "        for comment in submission.comments:\n",
    "            if not comment.body == \"[deleted]\":\n",
    "                \n",
    "                titles_and_comments[counter] += comment.body+\"/n\"\n",
    "                comment_counter +=1\n",
    "            \n",
    "            if comment_counter == num_comments:\n",
    "                break\n",
    "                \n",
    "    return titles_and_comments    "
   ]
  },
  {
   "cell_type": "code",
   "execution_count": 31,
   "id": "074b2a08",
   "metadata": {},
   "outputs": [],
   "source": [
    "titles_and_comments = get_titles_and_comments()"
   ]
  },
  {
   "cell_type": "code",
   "execution_count": null,
   "id": "3957b7b8",
   "metadata": {},
   "outputs": [],
   "source": []
  },
  {
   "cell_type": "code",
   "execution_count": 37,
   "id": "423e2539",
   "metadata": {},
   "outputs": [],
   "source": [
    "def create_prompt(titles_and_comments):\n",
    "    task = \"Return the stock ticker or company name mentioned in the following title and comments and classify the sentiment around the company as positive, negative or neutral. If not ticker or company is mentioned write 'No company mentioned'.\\n\\n\"\n",
    "    return task+titles_and_comments"
   ]
  },
  {
   "cell_type": "code",
   "execution_count": 38,
   "id": "6206fede",
   "metadata": {},
   "outputs": [
    {
     "name": "stdout",
     "output_type": "stream",
     "text": [
      "Return the stock ticker or company name mentioned in the following title and comments and classify the sentiment around the company as positive, negative or neutral. If not ticker or company is mentioned write 'No company mentioned'.\n",
      "\n",
      "Title: Why is the market pricing in rate cutes when the fed has been clear they arent thinking about cuts?\n",
      "\n",
      "Comments: \n",
      "\n",
      "They saw JPOW wink when he said no rate cuts./nOf course the Fed is going to say that. Inflation is partly psychological so if they let out that they will lower rates as of X date, it makes the Fed's job much harder and the chances of a soft landing gone.\n",
      "\n",
      "The Fed's playbook has always been, \"do whatever it takes to fight inflation, blah, blah and then lower rates at the first sign of a recession./nHe has to act hawkish to keep markets in control but he damn well knows he's on borrowed time leaving rates where they are at. Markets are attempting to front run this./n\n"
     ]
    }
   ],
   "source": [
    "print(create_prompt(titles_and_comments[1]))"
   ]
  },
  {
   "cell_type": "code",
   "execution_count": 44,
   "id": "ef06319f",
   "metadata": {},
   "outputs": [
    {
     "name": "stdout",
     "output_type": "stream",
     "text": [
      "Title: Why is the market pricing in rate cutes when the fed has been clear they arent thinking about cuts?\n",
      "\n",
      "Comments: \n",
      "\n",
      "They saw JPOW wink when he said no rate cuts./nOf course the Fed is going to say that. Inflation is partly psychological so if they let out that they will lower rates as of X date, it makes the Fed's job much harder and the chances of a soft landing gone.\n",
      "\n",
      "The Fed's playbook has always been, \"do whatever it takes to fight inflation, blah, blah and then lower rates at the first sign of a recession./nHe has to act hawkish to keep markets in control but he damn well knows he's on borrowed time leaving rates where they are at. Markets are attempting to front run this./n\n",
      "Sentiment report from OpenAI \n",
      "\n",
      "No company mentioned.\n",
      "--------------------------------------------\n",
      "Title: Apple TV Plus and Paramount Plus reportedly discussing cheap bundle plan to take on Netflix\n",
      "\n",
      "Comments: \n",
      "\n",
      "Apple TV+ is a high quality product and I just don’t see the same appeal for paramount./nThe slow march of streaming becoming cable continues…/nI would dump Netflix in a heart beat - never find anything to watch.  Not never but 1-2 things per 6 months./n\n",
      "Sentiment report from OpenAI \n",
      "\n",
      "Company: Apple TV Plus\n",
      "Sentiment: Positive\n",
      "--------------------------------------------\n",
      "Title: Uber, Jabil, Builders FirstSource to Join S&P 500\n",
      "\n",
      "Comments: \n",
      "\n",
      "Shoutout to that one user in the daily who recommend BLDR a while ago. Really impressive stock. \n",
      "\n",
      "Also as someone who is long on JBL, I’m stoked./nA lot of people here have been shitting on Uber for quite a while saying the business model would never work out. Now its up over 100% YTD and profitable. Just goes to show how clueless reddit is./nIt is interesting seeing the stocks I own go from being told to avoid to the S&P 500 being alright with having them in the index this year. First it was ABNB and LULU being added. Now UBER is in. Only thing left in my portfolio not in the index is PLTR and APO. And Bank of America said APO/KKR are likely to get in next year./n\n",
      "Sentiment report from OpenAI \n",
      "\n",
      "Company: Uber, Jabil (JBL), Builders FirstSource (BLDR), Airbnb (ABNB), Lululemon (LULU), Palantir (PLTR), Apollo Global Management (APO)\n",
      "\n",
      "Sentiment: Positive\n",
      "--------------------------------------------\n",
      "Title: Tax-loss selling, 'Santa rally' could sway U.S. stocks after November melt-up\n",
      "\n",
      "Comments: \n",
      "\n",
      "In this post: Stocks can go up, but stocks could also go down.\n",
      "\n",
      "Thank you./n\n",
      "Sentiment report from OpenAI \n",
      "No company mentioned.\n",
      "--------------------------------------------\n"
     ]
    }
   ],
   "source": [
    "for key, title_with_comments in titles_and_comments.items():\n",
    "    \n",
    "    prompt = create_prompt(title_with_comments)\n",
    "        \n",
    "    response = openai.Completion.create(\n",
    "            engine = 'text-davinci-003',\n",
    "            prompt = prompt,\n",
    "            max_tokens = 256,\n",
    "            temperature = 0,\n",
    "            top_p=1.0\n",
    "    )\n",
    "    \n",
    "    \n",
    "    print(title_with_comments)\n",
    "    print(f\"Sentiment report from OpenAI {response['choices'][0]['text']}\")\n",
    "    print('--------------------------------------------')"
   ]
  },
  {
   "cell_type": "code",
   "execution_count": null,
   "id": "4ff7f8ca",
   "metadata": {},
   "outputs": [],
   "source": []
  }
 ],
 "metadata": {
  "kernelspec": {
   "display_name": "Python 3 (ipykernel)",
   "language": "python",
   "name": "python3"
  },
  "language_info": {
   "codemirror_mode": {
    "name": "ipython",
    "version": 3
   },
   "file_extension": ".py",
   "mimetype": "text/x-python",
   "name": "python",
   "nbconvert_exporter": "python",
   "pygments_lexer": "ipython3",
   "version": "3.11.4"
  }
 },
 "nbformat": 4,
 "nbformat_minor": 5
}
