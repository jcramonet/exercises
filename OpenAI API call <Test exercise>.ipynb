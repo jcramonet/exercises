{
 "cells": [
  {
   "cell_type": "code",
   "execution_count": 48,
   "id": "d08d27b6",
   "metadata": {},
   "outputs": [],
   "source": [
    "import os\n",
    "import openai\n",
    "import pandas as pd"
   ]
  },
  {
   "cell_type": "code",
   "execution_count": 49,
   "id": "7710cbef",
   "metadata": {},
   "outputs": [],
   "source": [
    "##os.environ['OPENAI_API_KEY'] = ''"
   ]
  },
  {
   "cell_type": "code",
   "execution_count": 50,
   "id": "efd4833a",
   "metadata": {},
   "outputs": [],
   "source": [
    "openai.api_key = os.getenv('OPENAI_API_KEY')"
   ]
  },
  {
   "cell_type": "code",
   "execution_count": 51,
   "id": "9ea1eaae",
   "metadata": {},
   "outputs": [],
   "source": [
    "def create_test_prompt(topic, num_questions, num_answers):\n",
    "    prompt = f\"Create a multiple choice quiz on the topic of {topic} consisting of {num_questions} questions, each question should have {num_answers} options, include the correct answer for each question using the starting string 'Correct Answer:'\"\n",
    "    \n",
    "    return prompt"
   ]
  },
  {
   "cell_type": "code",
   "execution_count": 52,
   "id": "b1e02e34",
   "metadata": {},
   "outputs": [],
   "source": [
    "response = openai.Completion.create(\n",
    "            model = 'text-davinci-003',\n",
    "            prompt = create_test_prompt('Mexico History', 4, 4),\n",
    "            max_tokens = 256,\n",
    "            temperature = 0.7\n",
    ")"
   ]
  },
  {
   "cell_type": "code",
   "execution_count": 53,
   "id": "dfacfc31",
   "metadata": {},
   "outputs": [
    {
     "name": "stdout",
     "output_type": "stream",
     "text": [
      "\n",
      "\n",
      "Q1: What year did Mexico gain its independence from Spain?\n",
      "A. 1776\n",
      "B. 1821\n",
      "C. 1521\n",
      "D. 1810\n",
      "Correct Answer: B. 1821\n",
      "\n",
      "Q2: Who was the first president of Mexico?\n",
      "A. Porfirio Diaz\n",
      "B. Augustin de Iturbide\n",
      "C. Vicente Fox\n",
      "D. Antonio Lopez de Santa Anna\n",
      "Correct Answer: B. Augustin de Iturbide\n",
      "\n",
      "Q3: What is the name of the famous battle that took place in Mexico in 1847?\n",
      "A. Battle of Puebla\n",
      "B. Battle of Chapultepec\n",
      "C. Battle of Tampico\n",
      "D. Battle of Monterrey\n",
      "Correct Answer: A. Battle of Puebla\n",
      "\n",
      "Q4: In what year did Mexico become a federal republic?\n",
      "A. 1820\n",
      "B. 1910\n",
      "C. 1824\n",
      "D. 1867\n",
      "Correct Answer: C. 1824\n"
     ]
    }
   ],
   "source": [
    "print(response['choices'][0]['text'])"
   ]
  },
  {
   "cell_type": "code",
   "execution_count": 55,
   "id": "acca298c",
   "metadata": {},
   "outputs": [],
   "source": [
    "def create_student_view(test, num_questions):\n",
    "    student_view = {1:''}\n",
    "    question_number = 1\n",
    "    for line in test.split(\"\\n\"):\n",
    "        if not line.startswith(\"Correct Answer:\"):\n",
    "            student_view[question_number] += line+\"\\n\"\n",
    "        else:\n",
    "            if question_number < num_questions:\n",
    "                question_number += 1\n",
    "                student_view[question_number] = ''\n",
    "    return student_view"
   ]
  },
  {
   "cell_type": "code",
   "execution_count": 56,
   "id": "f535f5dc",
   "metadata": {},
   "outputs": [],
   "source": [
    "student_view = create_student_view(response['choices'][0]['text'], 4)"
   ]
  },
  {
   "cell_type": "code",
   "execution_count": null,
   "id": "428f2721",
   "metadata": {},
   "outputs": [],
   "source": []
  },
  {
   "cell_type": "code",
   "execution_count": 57,
   "id": "63e3cd75",
   "metadata": {},
   "outputs": [
    {
     "name": "stdout",
     "output_type": "stream",
     "text": [
      "\n",
      "\n",
      "Q1: What year did Mexico gain its independence from Spain?\n",
      "A. 1776\n",
      "B. 1821\n",
      "C. 1521\n",
      "D. 1810\n",
      "\n",
      "\n",
      "Q2: Who was the first president of Mexico?\n",
      "A. Porfirio Diaz\n",
      "B. Augustin de Iturbide\n",
      "C. Vicente Fox\n",
      "D. Antonio Lopez de Santa Anna\n",
      "\n",
      "\n",
      "Q3: What is the name of the famous battle that took place in Mexico in 1847?\n",
      "A. Battle of Puebla\n",
      "B. Battle of Chapultepec\n",
      "C. Battle of Tampico\n",
      "D. Battle of Monterrey\n",
      "\n",
      "\n",
      "Q4: In what year did Mexico become a federal republic?\n",
      "A. 1820\n",
      "B. 1910\n",
      "C. 1824\n",
      "D. 1867\n",
      "\n"
     ]
    }
   ],
   "source": [
    "for key in student_view:\n",
    "    print(student_view[key])"
   ]
  },
  {
   "cell_type": "code",
   "execution_count": 58,
   "id": "06a3c9c8",
   "metadata": {},
   "outputs": [],
   "source": [
    "def create_correct_answers(test, num_questions):\n",
    "    answers = {1:''}\n",
    "    question_number = 1\n",
    "    for line in test.split(\"\\n\"):\n",
    "        if line.startswith(\"Correct Answer:\"):\n",
    "            answers[question_number] += line+\"\\n\"\n",
    "            if question_number < num_questions:\n",
    "                question_number += 1\n",
    "                answers[question_number] = ''\n",
    "    return answers"
   ]
  },
  {
   "cell_type": "code",
   "execution_count": 59,
   "id": "3ae2850e",
   "metadata": {},
   "outputs": [],
   "source": [
    "correct_answers = create_answer(response['choices'][0]['text'], 4)"
   ]
  },
  {
   "cell_type": "code",
   "execution_count": 60,
   "id": "e266654f",
   "metadata": {},
   "outputs": [
    {
     "name": "stdout",
     "output_type": "stream",
     "text": [
      "Correct Answer: B. 1821\n",
      "\n",
      "Correct Answer: B. Augustin de Iturbide\n",
      "\n",
      "Correct Answer: A. Battle of Puebla\n",
      "\n",
      "Correct Answer: C. 1824\n",
      "\n"
     ]
    }
   ],
   "source": [
    "for key in correct_answers:\n",
    "    print(correct_answers[key])"
   ]
  },
  {
   "cell_type": "code",
   "execution_count": 61,
   "id": "172aaf53",
   "metadata": {},
   "outputs": [],
   "source": [
    "def take_test(student_view):\n",
    "    student_answers = {}\n",
    "    for question, question_view in student_view.items():\n",
    "        print(question_view)\n",
    "        answer = input(\"Enter your answer:\")\n",
    "        student_answers[question] = answer\n",
    "        \n",
    "    return student_answers"
   ]
  },
  {
   "cell_type": "code",
   "execution_count": 62,
   "id": "af771a41",
   "metadata": {},
   "outputs": [
    {
     "name": "stdout",
     "output_type": "stream",
     "text": [
      "\n",
      "\n",
      "Q1: What year did Mexico gain its independence from Spain?\n",
      "A. 1776\n",
      "B. 1821\n",
      "C. 1521\n",
      "D. 1810\n",
      "\n",
      "Enter your answer:a\n",
      "\n",
      "Q2: Who was the first president of Mexico?\n",
      "A. Porfirio Diaz\n",
      "B. Augustin de Iturbide\n",
      "C. Vicente Fox\n",
      "D. Antonio Lopez de Santa Anna\n",
      "\n",
      "Enter your answer:b\n",
      "\n",
      "Q3: What is the name of the famous battle that took place in Mexico in 1847?\n",
      "A. Battle of Puebla\n",
      "B. Battle of Chapultepec\n",
      "C. Battle of Tampico\n",
      "D. Battle of Monterrey\n",
      "\n",
      "Enter your answer:a\n",
      "\n",
      "Q4: In what year did Mexico become a federal republic?\n",
      "A. 1820\n",
      "B. 1910\n",
      "C. 1824\n",
      "D. 1867\n",
      "\n",
      "Enter your answer:a\n"
     ]
    }
   ],
   "source": [
    "s_answers = take_test(student_view)"
   ]
  },
  {
   "cell_type": "code",
   "execution_count": 64,
   "id": "0eb5578d",
   "metadata": {},
   "outputs": [
    {
     "data": {
      "text/plain": [
       "'A'"
      ]
     },
     "execution_count": 64,
     "metadata": {},
     "output_type": "execute_result"
    }
   ],
   "source": [
    "correct_answers[3][16]"
   ]
  },
  {
   "cell_type": "code",
   "execution_count": 73,
   "id": "7d7dcdd1",
   "metadata": {},
   "outputs": [],
   "source": [
    "def grade(correct_answers, s_answers):\n",
    "    s_correct_answers = 0\n",
    "    for question, answer in s_answers.items():\n",
    "        if answer.upper() == correct_answers[question][16]:\n",
    "            s_correct_answers += 1\n",
    "            \n",
    "    grade = 100*s_correct_answers / len(answers)\n",
    "    \n",
    "    if grade < 60:\n",
    "        p = \"no pass :(\"\n",
    "        \n",
    "    else:\n",
    "        p = \"pass :)\"\n",
    "    \n",
    "    return f\"you had {s_correct_answers} correct answers, with a grade of {grade}, {p}\"\n",
    "            "
   ]
  },
  {
   "cell_type": "code",
   "execution_count": 74,
   "id": "d84eaed7",
   "metadata": {},
   "outputs": [
    {
     "data": {
      "text/plain": [
       "'you had 2 correct answers, with a grade of 50.0, no pass :('"
      ]
     },
     "execution_count": 74,
     "metadata": {},
     "output_type": "execute_result"
    }
   ],
   "source": [
    "grade(correct_answers, s_answers)"
   ]
  },
  {
   "cell_type": "code",
   "execution_count": null,
   "id": "a6b539d6",
   "metadata": {},
   "outputs": [],
   "source": []
  }
 ],
 "metadata": {
  "kernelspec": {
   "display_name": "Python 3 (ipykernel)",
   "language": "python",
   "name": "python3"
  },
  "language_info": {
   "codemirror_mode": {
    "name": "ipython",
    "version": 3
   },
   "file_extension": ".py",
   "mimetype": "text/x-python",
   "name": "python",
   "nbconvert_exporter": "python",
   "pygments_lexer": "ipython3",
   "version": "3.11.4"
  }
 },
 "nbformat": 4,
 "nbformat_minor": 5
}
